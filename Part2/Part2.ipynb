{
 "cells": [
  {
   "cell_type": "markdown",
   "metadata": {},
   "source": [
    "# Part 2"
   ]
  },
  {
   "cell_type": "markdown",
   "metadata": {},
   "source": [
    "Import Module"
   ]
  },
  {
   "cell_type": "code",
   "execution_count": 1,
   "metadata": {},
   "outputs": [
    {
     "name": "stderr",
     "output_type": "stream",
     "text": [
      "/Users/tengfone/.pyenv/versions/3.8.5/lib/python3.8/site-packages/pandas/compat/__init__.py:120: UserWarning: Could not import the lzma module. Your installed Python is incomplete. Attempting to use lzma compression will result in a RuntimeError.\n",
      "  warnings.warn(msg)\n"
     ]
    }
   ],
   "source": [
    "import pandas as pd\n",
    "import numpy as np\n",
    "from sklearn.metrics import accuracy_score\n",
    "import matplotlib.pyplot as plt"
   ]
  },
  {
   "cell_type": "markdown",
   "metadata": {},
   "source": [
    "Pathings"
   ]
  },
  {
   "cell_type": "code",
   "execution_count": 2,
   "metadata": {},
   "outputs": [],
   "source": [
    "TF_train_pathing = \"/Users/tengfone/Desktop/ML_Project/data/CN/train\"\n",
    "TF_test_pathing = \"/Users/tengfone/Desktop/ML_Project/data/CN/dev.in\""
   ]
  },
  {
   "cell_type": "markdown",
   "metadata": {},
   "source": [
    "Loading Files"
   ]
  },
  {
   "cell_type": "code",
   "execution_count": 3,
   "metadata": {},
   "outputs": [],
   "source": [
    "def open_train_file(file_path):\n",
    "    with open(file_path) as f_lines:\n",
    "        all_datas = f_lines.read().splitlines()\n",
    "        all_datas[:] = [x for x in all_datas if x]\n",
    "\n",
    "    word_tags = list()\n",
    "    output_word_tags = list()\n",
    "    for i in all_datas:\n",
    "        i = i.split(' ')\n",
    "        word_tags.append(i)\n",
    "        \n",
    "    for i in word_tags:\n",
    "        if(len(i) == 3):\n",
    "            i = [i[0]+i[1],i[2]]\n",
    "            output_word_tags.append(i)\n",
    "        else:\n",
    "            output_word_tags.append(i)\n",
    "    return output_word_tags"
   ]
  },
  {
   "cell_type": "code",
   "execution_count": 4,
   "metadata": {},
   "outputs": [],
   "source": [
    "def open_test_file(file_path):\n",
    "    with open(file_path) as f_lines:\n",
    "        all_datas = f_lines.read().splitlines()\n",
    "\n",
    "    output = list()\n",
    "    para = 0\n",
    "\n",
    "    for i in all_datas:\n",
    "        if i != \"\":\n",
    "            output.append([i, para])\n",
    "        else:\n",
    "            para += 1\n",
    "\n",
    "    return output"
   ]
  },
  {
   "cell_type": "markdown",
   "metadata": {},
   "source": [
    "Convert to DF"
   ]
  },
  {
   "cell_type": "code",
   "execution_count": 5,
   "metadata": {},
   "outputs": [],
   "source": [
    "def to_train_df(word_tags):\n",
    "    df = pd.DataFrame(word_tags, columns=['Text', 'Labels'])\n",
    "    return df"
   ]
  },
  {
   "cell_type": "code",
   "execution_count": 6,
   "metadata": {},
   "outputs": [],
   "source": [
    "def to_test_df(list_words):\n",
    "    df = pd.DataFrame(list_words, columns=['Text', 'Paragraph'])\n",
    "    return df"
   ]
  },
  {
   "cell_type": "markdown",
   "metadata": {},
   "source": [
    "Emission Part a"
   ]
  },
  {
   "cell_type": "code",
   "execution_count": 7,
   "metadata": {},
   "outputs": [],
   "source": [
    "def emission(train_data):\n",
    "    # Total Number of Labels (DF)\n",
    "    df_num_labels = train_data['Labels'].value_counts().rename_axis('Labels').reset_index(name='CountY')\n",
    "\n",
    "    # Total Number of y -> x\n",
    "    df_emission = train_data.groupby([\"Text\",\"Labels\"]).size().reset_index()\n",
    "    df_emission.columns = [\"Text\", \"Labels\", \"CountY->X\"]\n",
    "\n",
    "    # e(x|y)\n",
    "    emission_output = pd.merge(df_emission,df_num_labels, on = \"Labels\")\n",
    "    emission_output[\"Emission\"] = emission_output[\"CountY->X\"]/emission_output[\"CountY\"]\n",
    "\n",
    "    return emission_output"
   ]
  },
  {
   "cell_type": "markdown",
   "metadata": {},
   "source": [
    "Emission Part b (Fix with UNK)"
   ]
  },
  {
   "cell_type": "code",
   "execution_count": 8,
   "metadata": {},
   "outputs": [],
   "source": [
    "def replace_unk(word,list_of_words):\n",
    "    if(word not in list_of_words):\n",
    "        return \"#UNK#\"\n",
    "    else:\n",
    "        return word"
   ]
  },
  {
   "cell_type": "code",
   "execution_count": 9,
   "metadata": {},
   "outputs": [],
   "source": [
    "def emission_fix(train_data,test_data,k):\n",
    "    list_of_words = train_data['Text'].to_list()\n",
    "    test_data['Text'] = test_data['Text'].apply(lambda x: replace_unk(x,list_of_words))\n",
    "  \n",
    "  # Total Number of Labels (DF)\n",
    "    df_num_labels = train_data['Labels'].value_counts().rename_axis('Labels').reset_index(name='CountY')\n",
    "\n",
    "  # Total Number of y -> x\n",
    "    df_emission = train_data.groupby([\"Text\",\"Labels\"]).size().reset_index()\n",
    "    df_emission.columns = [\"Text\", \"Labels\", \"CountY->X\"]\n",
    "\n",
    "  # e(x|y)\n",
    "    emission_output = pd.merge(df_emission,df_num_labels, on = \"Labels\")\n",
    "\n",
    "  # Unique Labelsoutlist.append(output)\n",
    "    unique_labels = emission_output.Labels.unique().tolist()\n",
    "    print(emission_output)\n",
    "\n",
    "    for i in range(len(unique_labels)):\n",
    "        each_label = unique_labels[i]\n",
    "        print(f\"Running at {each_label}\")\n",
    "        count_y = emission_output[emission_output['Labels']==each_label]['CountY'].values[0]\n",
    "        temp_list = list()\n",
    "        for index, row in test_data.iterrows():\n",
    "            word = row['Text']\n",
    "            if (word == \"#UNK#\"):\n",
    "                output = k/ (count_y + k)\n",
    "                temp_list.append(output)\n",
    "            else:\n",
    "                count_yx = 0\n",
    "                a = emission_output[(emission_output['Text'] == word)]\n",
    "                a2 = a[(a['Labels'] == each_label)]\n",
    "                # a = df.query('Text==@word and Labels==@label')\n",
    "                if (a2.size==0):\n",
    "                    output = 0\n",
    "                    temp_list.append(output)\n",
    "                else:\n",
    "                    a2 = a2['CountY->X'].values[0]\n",
    "                    count_yx = a2\n",
    "                    output = count_yx/(count_y + k)\n",
    "                    temp_list.append(output)\n",
    "        test_data[each_label] = temp_list\n",
    "                    \n",
    "    return test_data"
   ]
  },
  {
   "cell_type": "markdown",
   "metadata": {},
   "source": [
    "Get new Fixed Emission"
   ]
  },
  {
   "cell_type": "code",
   "execution_count": 10,
   "metadata": {},
   "outputs": [
    {
     "name": "stdout",
     "output_type": "stream",
     "text": [
      "      Text      Labels  CountY->X  CountY\n",
      "0        !   I-neutral          1    3507\n",
      "1        #   I-neutral         19    3507\n",
      "2        %   I-neutral          3    3507\n",
      "3        &   I-neutral          2    3507\n",
      "4        '   I-neutral          3    3507\n",
      "...    ...         ...        ...     ...\n",
      "19862   闺蜜  I-negative          1     135\n",
      "19863   青山  I-negative          1     135\n",
      "19864   高危  I-negative          1     135\n",
      "19865   高手  I-negative          1     135\n",
      "19866    鸡  I-negative          2     135\n",
      "\n",
      "[19867 rows x 4 columns]\n",
      "Running at I-neutral\n",
      "Running at O\n",
      "Running at B-negative\n",
      "Running at B-neutral\n",
      "Running at B-positive\n",
      "Running at I-positive\n",
      "Running at I-negative\n"
     ]
    }
   ],
   "source": [
    "k = 0.5\n",
    "# Training\n",
    "train_data = open_train_file(TF_train_pathing)\n",
    "train_data_df = to_train_df(train_data)\n",
    "emitted = emission(train_data_df)\n",
    "\n",
    "# Testing\n",
    "test_data = open_test_file(TF_test_pathing)\n",
    "\n",
    "test_data_df = to_test_df(test_data)\n",
    "emitted_fix = emission_fix(train_data_df,test_data_df,k)"
   ]
  },
  {
   "cell_type": "code",
   "execution_count": 11,
   "metadata": {},
   "outputs": [
    {
     "data": {
      "text/html": [
       "<div>\n",
       "<style scoped>\n",
       "    .dataframe tbody tr th:only-of-type {\n",
       "        vertical-align: middle;\n",
       "    }\n",
       "\n",
       "    .dataframe tbody tr th {\n",
       "        vertical-align: top;\n",
       "    }\n",
       "\n",
       "    .dataframe thead th {\n",
       "        text-align: right;\n",
       "    }\n",
       "</style>\n",
       "<table border=\"1\" class=\"dataframe\">\n",
       "  <thead>\n",
       "    <tr style=\"text-align: right;\">\n",
       "      <th></th>\n",
       "      <th>Text</th>\n",
       "      <th>Paragraph</th>\n",
       "      <th>I-neutral</th>\n",
       "      <th>O</th>\n",
       "      <th>B-negative</th>\n",
       "      <th>B-neutral</th>\n",
       "      <th>B-positive</th>\n",
       "      <th>I-positive</th>\n",
       "      <th>I-negative</th>\n",
       "    </tr>\n",
       "  </thead>\n",
       "  <tbody>\n",
       "    <tr>\n",
       "      <th>0</th>\n",
       "      <td>十年</td>\n",
       "      <td>0</td>\n",
       "      <td>0.000000</td>\n",
       "      <td>0.000114</td>\n",
       "      <td>0.000000</td>\n",
       "      <td>0.000000</td>\n",
       "      <td>0.000000</td>\n",
       "      <td>0.000000</td>\n",
       "      <td>0.00000</td>\n",
       "    </tr>\n",
       "    <tr>\n",
       "      <th>1</th>\n",
       "      <td>前</td>\n",
       "      <td>0</td>\n",
       "      <td>0.000285</td>\n",
       "      <td>0.000318</td>\n",
       "      <td>0.000000</td>\n",
       "      <td>0.000000</td>\n",
       "      <td>0.000000</td>\n",
       "      <td>0.000723</td>\n",
       "      <td>0.00000</td>\n",
       "    </tr>\n",
       "    <tr>\n",
       "      <th>2</th>\n",
       "      <td>马云</td>\n",
       "      <td>0</td>\n",
       "      <td>0.000000</td>\n",
       "      <td>0.000000</td>\n",
       "      <td>0.000000</td>\n",
       "      <td>0.000618</td>\n",
       "      <td>0.001624</td>\n",
       "      <td>0.000000</td>\n",
       "      <td>0.00000</td>\n",
       "    </tr>\n",
       "    <tr>\n",
       "      <th>3</th>\n",
       "      <td>告诉</td>\n",
       "      <td>0</td>\n",
       "      <td>0.000000</td>\n",
       "      <td>0.000216</td>\n",
       "      <td>0.000000</td>\n",
       "      <td>0.000000</td>\n",
       "      <td>0.000000</td>\n",
       "      <td>0.000000</td>\n",
       "      <td>0.00000</td>\n",
       "    </tr>\n",
       "    <tr>\n",
       "      <th>4</th>\n",
       "      <td>你</td>\n",
       "      <td>0</td>\n",
       "      <td>0.002851</td>\n",
       "      <td>0.009045</td>\n",
       "      <td>0.018083</td>\n",
       "      <td>0.006484</td>\n",
       "      <td>0.004060</td>\n",
       "      <td>0.001447</td>\n",
       "      <td>0.00738</td>\n",
       "    </tr>\n",
       "    <tr>\n",
       "      <th>...</th>\n",
       "      <td>...</td>\n",
       "      <td>...</td>\n",
       "      <td>...</td>\n",
       "      <td>...</td>\n",
       "      <td>...</td>\n",
       "      <td>...</td>\n",
       "      <td>...</td>\n",
       "      <td>...</td>\n",
       "      <td>...</td>\n",
       "    </tr>\n",
       "    <tr>\n",
       "      <th>13065</th>\n",
       "      <td>、</td>\n",
       "      <td>343</td>\n",
       "      <td>0.001996</td>\n",
       "      <td>0.007267</td>\n",
       "      <td>0.000000</td>\n",
       "      <td>0.000000</td>\n",
       "      <td>0.000000</td>\n",
       "      <td>0.000000</td>\n",
       "      <td>0.00000</td>\n",
       "    </tr>\n",
       "    <tr>\n",
       "      <th>13066</th>\n",
       "      <td>#UNK#</td>\n",
       "      <td>343</td>\n",
       "      <td>0.000143</td>\n",
       "      <td>0.000006</td>\n",
       "      <td>0.001808</td>\n",
       "      <td>0.000154</td>\n",
       "      <td>0.000406</td>\n",
       "      <td>0.000362</td>\n",
       "      <td>0.00369</td>\n",
       "    </tr>\n",
       "    <tr>\n",
       "      <th>13067</th>\n",
       "      <td>180</td>\n",
       "      <td>343</td>\n",
       "      <td>0.000000</td>\n",
       "      <td>0.000038</td>\n",
       "      <td>0.000000</td>\n",
       "      <td>0.000000</td>\n",
       "      <td>0.000000</td>\n",
       "      <td>0.000000</td>\n",
       "      <td>0.00000</td>\n",
       "    </tr>\n",
       "    <tr>\n",
       "      <th>13068</th>\n",
       "      <td>公里</td>\n",
       "      <td>343</td>\n",
       "      <td>0.000285</td>\n",
       "      <td>0.000267</td>\n",
       "      <td>0.000000</td>\n",
       "      <td>0.000000</td>\n",
       "      <td>0.000000</td>\n",
       "      <td>0.000000</td>\n",
       "      <td>0.00000</td>\n",
       "    </tr>\n",
       "    <tr>\n",
       "      <th>13069</th>\n",
       "      <td>。</td>\n",
       "      <td>343</td>\n",
       "      <td>0.000000</td>\n",
       "      <td>0.023642</td>\n",
       "      <td>0.000000</td>\n",
       "      <td>0.000000</td>\n",
       "      <td>0.000000</td>\n",
       "      <td>0.000000</td>\n",
       "      <td>0.00000</td>\n",
       "    </tr>\n",
       "  </tbody>\n",
       "</table>\n",
       "<p>13070 rows × 9 columns</p>\n",
       "</div>"
      ],
      "text/plain": [
       "        Text  Paragraph  I-neutral         O  B-negative  B-neutral  \\\n",
       "0         十年          0   0.000000  0.000114    0.000000   0.000000   \n",
       "1          前          0   0.000285  0.000318    0.000000   0.000000   \n",
       "2         马云          0   0.000000  0.000000    0.000000   0.000618   \n",
       "3         告诉          0   0.000000  0.000216    0.000000   0.000000   \n",
       "4          你          0   0.002851  0.009045    0.018083   0.006484   \n",
       "...      ...        ...        ...       ...         ...        ...   \n",
       "13065      、        343   0.001996  0.007267    0.000000   0.000000   \n",
       "13066  #UNK#        343   0.000143  0.000006    0.001808   0.000154   \n",
       "13067    180        343   0.000000  0.000038    0.000000   0.000000   \n",
       "13068     公里        343   0.000285  0.000267    0.000000   0.000000   \n",
       "13069      。        343   0.000000  0.023642    0.000000   0.000000   \n",
       "\n",
       "       B-positive  I-positive  I-negative  \n",
       "0        0.000000    0.000000     0.00000  \n",
       "1        0.000000    0.000723     0.00000  \n",
       "2        0.001624    0.000000     0.00000  \n",
       "3        0.000000    0.000000     0.00000  \n",
       "4        0.004060    0.001447     0.00738  \n",
       "...           ...         ...         ...  \n",
       "13065    0.000000    0.000000     0.00000  \n",
       "13066    0.000406    0.000362     0.00369  \n",
       "13067    0.000000    0.000000     0.00000  \n",
       "13068    0.000000    0.000000     0.00000  \n",
       "13069    0.000000    0.000000     0.00000  \n",
       "\n",
       "[13070 rows x 9 columns]"
      ]
     },
     "execution_count": 11,
     "metadata": {},
     "output_type": "execute_result"
    }
   ],
   "source": [
    "emitted_fix"
   ]
  },
  {
   "cell_type": "markdown",
   "metadata": {},
   "source": [
    "Formatting Dataframe to Text/max_label/Paragraph"
   ]
  },
  {
   "cell_type": "code",
   "execution_count": 12,
   "metadata": {},
   "outputs": [],
   "source": [
    "df2 = emitted_fix.drop(['Text', 'Paragraph'], axis=1)\n",
    "df2['max_value'] = df2.max(axis=1)\n",
    "df2['max_label'] = df2.idxmax(axis=1)\n",
    "df3 = emitted_fix[['Text']].copy()\n",
    "df3['Paragraph'] = emitted_fix[['Paragraph']].copy()\n",
    "df3['max_label'] = df2[['max_label']].copy()\n",
    "df3 = df3[['Text','max_label','Paragraph']]"
   ]
  },
  {
   "cell_type": "code",
   "execution_count": 13,
   "metadata": {},
   "outputs": [
    {
     "name": "stdout",
     "output_type": "stream",
     "text": [
      "        Text   max_label  Paragraph\n",
      "0         十年           O          0\n",
      "1          前  I-positive          0\n",
      "2         马云  B-positive          0\n",
      "3         告诉           O          0\n",
      "4          你  B-negative          0\n",
      "...      ...         ...        ...\n",
      "13065      、           O        343\n",
      "13066  #UNK#  I-negative        343\n",
      "13067    180           O        343\n",
      "13068     公里   I-neutral        343\n",
      "13069      。           O        343\n",
      "\n",
      "[13070 rows x 3 columns]\n"
     ]
    }
   ],
   "source": [
    "print(df3)"
   ]
  },
  {
   "cell_type": "markdown",
   "metadata": {},
   "source": [
    "Convert Dataframe to list with paragraphing"
   ]
  },
  {
   "cell_type": "code",
   "execution_count": 14,
   "metadata": {},
   "outputs": [],
   "source": [
    "df3_idx = 0\n",
    "output_list = list()\n",
    "for index, row in df3.iterrows():\n",
    "    word = row['Text']\n",
    "    label = row['max_label']\n",
    "    para = row['Paragraph']\n",
    "    if(para == df3_idx):\n",
    "        one_line = word + \" \" + label\n",
    "        output_list.append([one_line])\n",
    "    else:\n",
    "        one_empty_line = \"\"\n",
    "        output_list.append([one_empty_line])\n",
    "        one_line = word + \" \" + label\n",
    "        output_list.append([one_line])\n",
    "        df3_idx += 1"
   ]
  },
  {
   "cell_type": "markdown",
   "metadata": {},
   "source": [
    "Write to output file"
   ]
  },
  {
   "cell_type": "code",
   "execution_count": null,
   "metadata": {},
   "outputs": [],
   "source": [
    "with open('dev.prediction','w') as f:\n",
    "    for item in output_list:\n",
    "        for i in item:\n",
    "            f.write(\"%s\\n\" % i)"
   ]
  }
 ],
 "metadata": {
  "kernelspec": {
   "display_name": "Python 3",
   "language": "python",
   "name": "python3"
  },
  "language_info": {
   "codemirror_mode": {
    "name": "ipython",
    "version": 3
   },
   "file_extension": ".py",
   "mimetype": "text/x-python",
   "name": "python",
   "nbconvert_exporter": "python",
   "pygments_lexer": "ipython3",
   "version": "3.8.5"
  }
 },
 "nbformat": 4,
 "nbformat_minor": 4
}
